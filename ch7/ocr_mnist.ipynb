{
 "cells": [
  {
   "cell_type": "code",
   "execution_count": 1,
   "metadata": {},
   "outputs": [
    {
     "name": "stderr",
     "output_type": "stream",
     "text": [
      "Using TensorFlow backend.\n"
     ]
    }
   ],
   "source": [
    "from keras.datasets import mnist\n",
    "from keras.models import Sequential\n",
    "from keras.layers.core import Dense, Dropout, Activation, Flatten\n",
    "from keras.layers import Convolution2D, MaxPooling2D\n",
    "from keras.optimizers import SGD, Adam, RMSprop\n",
    "from keras.utils import np_utils\n",
    "\n",
    "image_w = 28\n",
    "image_h = 28\n",
    "nb_classes = 10"
   ]
  },
  {
   "cell_type": "code",
   "execution_count": 2,
   "metadata": {},
   "outputs": [],
   "source": [
    "def build_model():\n",
    "    # MLP 모델 구축\n",
    "    model = Sequential()\n",
    "    model = Sequential()\n",
    "    model.add(Dense(512, input_shape=(784,)))\n",
    "    model.add(Activation('relu'))\n",
    "    model.add(Dropout(0.2))\n",
    "    model.add(Dense(512))\n",
    "    model.add(Activation('relu'))\n",
    "    model.add(Dropout(0.2))\n",
    "    model.add(Dense(10))\n",
    "    model.add(Activation('softmax'))\n",
    "    model.compile(loss='categorical_crossentropy',\n",
    "    optimizer=RMSprop(),metrics=['accuracy'])\n",
    "    return model"
   ]
  },
  {
   "cell_type": "code",
   "execution_count": 3,
   "metadata": {},
   "outputs": [],
   "source": [
    "def main():\n",
    "    # MNIST 데이터 읽어 들이기\n",
    "    (X_train, y_train), (X_test, y_test) = mnist.load_data()\n",
    "    # 데이터 정규화\n",
    "    X_train = X_train.reshape(X_train.shape[0], image_w * image_h).astype('float32')\n",
    "    X_test  = X_test.reshape(X_test.shape[0], image_w * image_h).astype('float32')\n",
    "    X_train /= 255\n",
    "    X_test  /= 255\n",
    "    y_train = np_utils.to_categorical(y_train, 10)\n",
    "    y_test  = np_utils.to_categorical(y_test, 10)\n",
    "    # 모델 구축\n",
    "    model = build_model()\n",
    "    model.fit(X_train, y_train,\n",
    "        batch_size=128, epochs=20, verbose=1,\n",
    "        validation_data=(X_test, y_test))\n",
    "\n",
    "    # 모델 저장\n",
    "    #model.save_weights('mnist.hdf5')\n",
    "\n",
    "    # 모델 평가\n",
    "    score = model.evaluate(X_test, y_test, verbose=0)    \n",
    "    print('score=', score)"
   ]
  },
  {
   "cell_type": "code",
   "execution_count": 4,
   "metadata": {},
   "outputs": [
    {
     "name": "stdout",
     "output_type": "stream",
     "text": [
      "Train on 60000 samples, validate on 10000 samples\n",
      "Epoch 1/20\n",
      "60000/60000 [==============================] - 12s 192us/step - loss: 0.2465 - acc: 0.9240 - val_loss: 0.1312 - val_acc: 0.9607\n",
      "Epoch 2/20\n",
      "60000/60000 [==============================] - 10s 175us/step - loss: 0.1005 - acc: 0.9690 - val_loss: 0.0773 - val_acc: 0.9768\n",
      "Epoch 3/20\n",
      "60000/60000 [==============================] - 11s 177us/step - loss: 0.0739 - acc: 0.9773 - val_loss: 0.0823 - val_acc: 0.9772\n",
      "Epoch 4/20\n",
      "60000/60000 [==============================] - 10s 168us/step - loss: 0.0584 - acc: 0.9827 - val_loss: 0.0746 - val_acc: 0.9805\n",
      "Epoch 5/20\n",
      "60000/60000 [==============================] - 11s 177us/step - loss: 0.0503 - acc: 0.9854 - val_loss: 0.0814 - val_acc: 0.9797\n",
      "Epoch 6/20\n",
      "60000/60000 [==============================] - 11s 185us/step - loss: 0.0424 - acc: 0.9873 - val_loss: 0.0803 - val_acc: 0.9795\n",
      "Epoch 7/20\n",
      "60000/60000 [==============================] - 11s 188us/step - loss: 0.0401 - acc: 0.9880 - val_loss: 0.0863 - val_acc: 0.9805\n",
      "Epoch 8/20\n",
      "60000/60000 [==============================] - 13s 219us/step - loss: 0.0344 - acc: 0.9901 - val_loss: 0.0817 - val_acc: 0.9827\n",
      "Epoch 9/20\n",
      "60000/60000 [==============================] - 12s 200us/step - loss: 0.0308 - acc: 0.9912 - val_loss: 0.0881 - val_acc: 0.9800\n",
      "Epoch 10/20\n",
      "60000/60000 [==============================] - 12s 197us/step - loss: 0.0304 - acc: 0.9917 - val_loss: 0.0892 - val_acc: 0.9826\n",
      "Epoch 11/20\n",
      "60000/60000 [==============================] - 12s 200us/step - loss: 0.0270 - acc: 0.9922 - val_loss: 0.0955 - val_acc: 0.9817\n",
      "Epoch 12/20\n",
      "60000/60000 [==============================] - 10s 163us/step - loss: 0.0251 - acc: 0.9926 - val_loss: 0.0975 - val_acc: 0.9830\n",
      "Epoch 13/20\n",
      "60000/60000 [==============================] - 11s 177us/step - loss: 0.0254 - acc: 0.9928 - val_loss: 0.0946 - val_acc: 0.9821\n",
      "Epoch 14/20\n",
      "60000/60000 [==============================] - 11s 176us/step - loss: 0.0224 - acc: 0.9938 - val_loss: 0.1064 - val_acc: 0.9810\n",
      "Epoch 15/20\n",
      "60000/60000 [==============================] - 10s 167us/step - loss: 0.0199 - acc: 0.9944 - val_loss: 0.1105 - val_acc: 0.9809\n",
      "Epoch 16/20\n",
      "60000/60000 [==============================] - 13s 218us/step - loss: 0.0235 - acc: 0.9937 - val_loss: 0.0977 - val_acc: 0.9839\n",
      "Epoch 17/20\n",
      "60000/60000 [==============================] - 12s 194us/step - loss: 0.0206 - acc: 0.9940 - val_loss: 0.1138 - val_acc: 0.9816\n",
      "Epoch 18/20\n",
      "60000/60000 [==============================] - 11s 177us/step - loss: 0.0190 - acc: 0.9947 - val_loss: 0.1006 - val_acc: 0.9841\n",
      "Epoch 19/20\n",
      "60000/60000 [==============================] - 13s 209us/step - loss: 0.0186 - acc: 0.9956 - val_loss: 0.1200 - val_acc: 0.9834\n",
      "Epoch 20/20\n",
      "60000/60000 [==============================] - 12s 194us/step - loss: 0.0200 - acc: 0.9951 - val_loss: 0.1168 - val_acc: 0.9830\n",
      "score= [0.11682089695042414, 0.98299999999999998]\n"
     ]
    }
   ],
   "source": [
    "if __name__ == '__main__':\n",
    "  main()"
   ]
  },
  {
   "cell_type": "code",
   "execution_count": null,
   "metadata": {},
   "outputs": [],
   "source": []
  }
 ],
 "metadata": {
  "kernelspec": {
   "display_name": "Python 3",
   "language": "python",
   "name": "python3"
  },
  "language_info": {
   "codemirror_mode": {
    "name": "ipython",
    "version": 3
   },
   "file_extension": ".py",
   "mimetype": "text/x-python",
   "name": "python",
   "nbconvert_exporter": "python",
   "pygments_lexer": "ipython3",
   "version": "3.6.3"
  }
 },
 "nbformat": 4,
 "nbformat_minor": 2
}
